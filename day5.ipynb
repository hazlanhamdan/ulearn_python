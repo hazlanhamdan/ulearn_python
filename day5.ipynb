{
 "cells": [
  {
   "cell_type": "markdown",
   "metadata": {},
   "source": [
    "Object oriented programming\n",
    "==="
   ]
  },
  {
   "cell_type": "code",
   "execution_count": 22,
   "metadata": {
    "collapsed": false
   },
   "outputs": [
    {
     "name": "stdout",
     "output_type": "stream",
     "text": [
      "<type 'dict'>\n",
      "John\n",
      "10\n",
      "False\n"
     ]
    }
   ],
   "source": [
    "# let's try it without OOP\n",
    "\n",
    "def make_student(name, age):\n",
    "    #return (name, age)\n",
    "    return {'name': name, 'age': age}\n",
    "\n",
    "def get_name(student):\n",
    "    #return student[0]\n",
    "    return student['name']\n",
    "\n",
    "def get_age(student):\n",
    "    #return student[1]\n",
    "    return student['age']\n",
    "\n",
    "def is_teenager(student):\n",
    "    age = get_age(student)\n",
    "    return age >= 13 and age < 20\n",
    "\n",
    "student = make_student(\"John\", 10)\n",
    "print type(student)\n",
    "print get_name(student)\n",
    "print get_age(student)\n",
    "print is_teenager(student)"
   ]
  },
  {
   "cell_type": "code",
   "execution_count": 21,
   "metadata": {
    "collapsed": false
   },
   "outputs": [
    {
     "name": "stdout",
     "output_type": "stream",
     "text": [
      "<type 'dict'>\n",
      "John\n",
      "10\n",
      "False\n",
      "<class '__main__.Student'>\n",
      "{'_Student__name': 'John', '_Student__age': 10}\n",
      "John\n",
      "10\n",
      "False\n",
      "John 10\n"
     ]
    }
   ],
   "source": [
    "# Object oriented programming\n",
    "# It combines data and actions on that data into a single entity\n",
    "# It is also about creating a new type\n",
    "\n",
    "class Color(object):\n",
    "    def __init__(self, r, g, b):\n",
    "        assert r >= 0 and r <= 255, \"allowed values are 0 - 255\"\n",
    "        assert g >= 0 and g <= 255, \"allowed values are 0 - 255\"\n",
    "        assert b >= 0 and b <= 255, \"allowed values are 0 - 255\"\n",
    "        \n",
    "        self.r = r\n",
    "        self.g = g\n",
    "        self.b = b\n",
    "        \n",
    "class Student(object):\n",
    "    \n",
    "    def __init__(self, name, age):\n",
    "        self.__name = name\n",
    "        self.__age = age\n",
    "        \n",
    "    def get_name(self):\n",
    "        return self.__name\n",
    "    \n",
    "    def get_age(self):\n",
    "        return self.__age\n",
    "    \n",
    "    def is_teenager(self):\n",
    "        return self.get_age() >= 13 and self.get_age() < 20\n",
    "    \n",
    "    def details(self):\n",
    "        return \"%s %s\" % (self.get_name(), self.get_age())\n",
    "\n",
    "student = Student(\"John\", 10)\n",
    "print type(student)\n",
    "print student.__dict__ # here we can see all the attributes\n",
    "print student.get_name()\n",
    "print student.get_age()\n",
    "print student.is_teenager()\n",
    "print student.details()"
   ]
  },
  {
   "cell_type": "code",
   "execution_count": 35,
   "metadata": {
    "collapsed": false
   },
   "outputs": [
    {
     "name": "stdout",
     "output_type": "stream",
     "text": [
      "john\n",
      "hello\n",
      "mary\n",
      "hey\n",
      "10\n"
     ]
    }
   ],
   "source": [
    "# Let's see how inheritance\n",
    "\n",
    "# I want to create an OrderedDict but it should\n",
    "#borrow as much as it can from the Python's dict.\n",
    "\n",
    "class Person(object):\n",
    "    def __init__(self, name):\n",
    "        self.name = name\n",
    "    \n",
    "    def say_hello(self):\n",
    "        return \"hello\"\n",
    "    \n",
    "class Student(Person):\n",
    "    def __init__(self, name, gpa):\n",
    "        # call parent class constructor\n",
    "        super(Student, self).__init__(name)\n",
    "        self.gpa = gpa\n",
    "        \n",
    "    def get_gpa(self):\n",
    "        return self.gpa\n",
    "    \n",
    "    def say_hello(self):\n",
    "        return \"hey\"\n",
    "        \n",
    "p = Person(\"john\")\n",
    "print p.name\n",
    "print p.say_hello()\n",
    "\n",
    "s = Student(\"mary\", 10)\n",
    "print s.name\n",
    "print s.say_hello()\n",
    "print s.get_gpa()\n",
    "\n"
   ]
  },
  {
   "cell_type": "markdown",
   "metadata": {},
   "source": [
    "Assertions\n",
    "===\n",
    "\n",
    "Assertions can be used to test for conditions in programs which we know to be always true."
   ]
  },
  {
   "cell_type": "code",
   "execution_count": 3,
   "metadata": {
    "collapsed": false
   },
   "outputs": [
    {
     "name": "stdout",
     "output_type": "stream",
     "text": [
      "3\n"
     ]
    },
    {
     "ename": "AssertionError",
     "evalue": "oops, you passed in an empty list",
     "output_type": "error",
     "traceback": [
      "\u001b[1;31m---------------------------------------------------------------------------\u001b[0m",
      "\u001b[1;31mAssertionError\u001b[0m                            Traceback (most recent call last)",
      "\u001b[1;32m<ipython-input-3-83b469eeaa0f>\u001b[0m in \u001b[0;36m<module>\u001b[1;34m()\u001b[0m\n\u001b[0;32m      8\u001b[0m \u001b[1;33m\u001b[0m\u001b[0m\n\u001b[0;32m      9\u001b[0m \u001b[1;32mprint\u001b[0m \u001b[0mmaxnum\u001b[0m\u001b[1;33m(\u001b[0m\u001b[1;33m[\u001b[0m\u001b[1;36m1\u001b[0m\u001b[1;33m,\u001b[0m \u001b[1;36m2\u001b[0m\u001b[1;33m,\u001b[0m \u001b[1;36m3\u001b[0m\u001b[1;33m]\u001b[0m\u001b[1;33m)\u001b[0m\u001b[1;33m\u001b[0m\u001b[0m\n\u001b[1;32m---> 10\u001b[1;33m \u001b[1;32mprint\u001b[0m \u001b[0mmaxnum\u001b[0m\u001b[1;33m(\u001b[0m\u001b[1;33m[\u001b[0m\u001b[1;33m]\u001b[0m\u001b[1;33m)\u001b[0m\u001b[1;33m\u001b[0m\u001b[0m\n\u001b[0m",
      "\u001b[1;32m<ipython-input-3-83b469eeaa0f>\u001b[0m in \u001b[0;36mmaxnum\u001b[1;34m(li)\u001b[0m\n\u001b[0;32m      3\u001b[0m     \u001b[0mDoes\u001b[0m \u001b[1;32mnot\u001b[0m \u001b[0mwork\u001b[0m \u001b[1;32mwith\u001b[0m \u001b[0mempty\u001b[0m \u001b[0mlists\u001b[0m\u001b[1;33m.\u001b[0m\u001b[1;33m\u001b[0m\u001b[0m\n\u001b[0;32m      4\u001b[0m     \"\"\"\n\u001b[1;32m----> 5\u001b[1;33m     \u001b[1;32massert\u001b[0m \u001b[0mlen\u001b[0m\u001b[1;33m(\u001b[0m\u001b[0mli\u001b[0m\u001b[1;33m)\u001b[0m \u001b[1;33m!=\u001b[0m \u001b[1;36m0\u001b[0m\u001b[1;33m,\u001b[0m \u001b[1;34m\"oops, you passed in an empty list\"\u001b[0m\u001b[1;33m\u001b[0m\u001b[0m\n\u001b[0m\u001b[0;32m      6\u001b[0m \u001b[1;33m\u001b[0m\u001b[0m\n\u001b[0;32m      7\u001b[0m     \u001b[1;32mreturn\u001b[0m \u001b[0mmax\u001b[0m\u001b[1;33m(\u001b[0m\u001b[0mli\u001b[0m\u001b[1;33m)\u001b[0m\u001b[1;33m\u001b[0m\u001b[0m\n",
      "\u001b[1;31mAssertionError\u001b[0m: oops, you passed in an empty list"
     ]
    }
   ],
   "source": [
    "def maxnum(li):\n",
    "    \"\"\" Finds the maximum number in the list.\n",
    "    Does not work with empty lists.\n",
    "    \"\"\"\n",
    "    assert len(li) != 0, \"oops, you passed in an empty list\"\n",
    "    \n",
    "    return max(li)\n",
    "\n",
    "print maxnum([1, 2, 3])\n",
    "#print maxnum([])"
   ]
  },
  {
   "cell_type": "code",
   "execution_count": 5,
   "metadata": {
    "collapsed": false
   },
   "outputs": [
    {
     "ename": "AssertionError",
     "evalue": "",
     "output_type": "error",
     "traceback": [
      "\u001b[1;31m---------------------------------------------------------------------------\u001b[0m",
      "\u001b[1;31mAssertionError\u001b[0m                            Traceback (most recent call last)",
      "\u001b[1;32m<ipython-input-5-be6df041ac93>\u001b[0m in \u001b[0;36m<module>\u001b[1;34m()\u001b[0m\n\u001b[0;32m     13\u001b[0m \u001b[1;33m\u001b[0m\u001b[0m\n\u001b[0;32m     14\u001b[0m \u001b[0mdivide\u001b[0m\u001b[1;33m(\u001b[0m\u001b[1;36m24\u001b[0m\u001b[1;33m,\u001b[0m \u001b[1;36m5\u001b[0m\u001b[1;33m)\u001b[0m\u001b[1;33m\u001b[0m\u001b[0m\n\u001b[1;32m---> 15\u001b[1;33m \u001b[0mdivide\u001b[0m\u001b[1;33m(\u001b[0m\u001b[1;36m24\u001b[0m\u001b[1;33m,\u001b[0m \u001b[1;36m0\u001b[0m\u001b[1;33m)\u001b[0m\u001b[1;33m\u001b[0m\u001b[0m\n\u001b[0m",
      "\u001b[1;32m<ipython-input-5-be6df041ac93>\u001b[0m in \u001b[0;36mdivide\u001b[1;34m(a, b)\u001b[0m\n\u001b[0;32m      8\u001b[0m     \"\"\" This function avoids the integer division in Python.\n\u001b[0;32m      9\u001b[0m     \"\"\"\n\u001b[1;32m---> 10\u001b[1;33m     \u001b[1;32massert\u001b[0m \u001b[0mb\u001b[0m \u001b[1;33m!=\u001b[0m \u001b[1;36m0\u001b[0m\u001b[1;33m\u001b[0m\u001b[0m\n\u001b[0m\u001b[0;32m     11\u001b[0m \u001b[1;33m\u001b[0m\u001b[0m\n\u001b[0;32m     12\u001b[0m     \u001b[1;32mreturn\u001b[0m \u001b[0mfloat\u001b[0m\u001b[1;33m(\u001b[0m\u001b[0ma\u001b[0m\u001b[1;33m)\u001b[0m \u001b[1;33m/\u001b[0m \u001b[0mb\u001b[0m\u001b[1;33m\u001b[0m\u001b[0m\n",
      "\u001b[1;31mAssertionError\u001b[0m: "
     ]
    }
   ],
   "source": [
    "def mysort(li):\n",
    "    sortedlist = sorted(li)\n",
    "    \n",
    "    assert is_sorted(sortedlist)\n",
    "    return sortedlist\n",
    "\n",
    "def divide(a, b):\n",
    "    \"\"\" This function avoids the integer division in Python.\n",
    "    \"\"\"\n",
    "    assert b != 0\n",
    "    \n",
    "    return float(a) / b\n",
    "\n",
    "divide(24, 5)\n",
    "divide(24, 0)"
   ]
  },
  {
   "cell_type": "markdown",
   "metadata": {},
   "source": [
    "Resources for Python\n",
    "===\n",
    "\n",
    "- Books about Python:\n",
    "    - http://shop.oreilly.com/product/0636920023784.do (you can buy this one at kinokuniya)\n",
    "    - http://learnpythonthehardway.org/\n",
    "    - http://www.greenteapress.com/thinkpython/thinkpython.pdf\n",
    "    - http://www.greenteapress.com/thinkpython/html/index.html\n",
    "\n",
    "- Go through the Python tutorial: https://docs.python.org/2/tutorial/\n",
    "\n",
    "- Python module of the week: http://pymotw.com/2/contents.html\n",
    "\n",
    "- Stack Overflow:\n",
    "    - http://stackoverflow.com/questions/tagged/python\n",
    "    - http://stackoverflow.com/questions/82831/check-whether-a-file-exists-using-python\n",
    "\n",
    "- You write lots and lots of programs\n",
    "\n",
    "- You can watch videos on YouTube (last priority)\n"
   ]
  },
  {
   "cell_type": "markdown",
   "metadata": {},
   "source": [
    "Useful Python libraries for working with data\n",
    "---\n",
    "\n",
    "- Pandas: http://pandas.pydata.org/\n",
    "- Numpy: http://www.numpy.org/\n",
    "- Scipy: http://www.scipy.org/\n",
    "- MrJob for Hadoop: https://pythonhosted.org/mrjob/\n",
    "- Requests: http://www.python-requests.org/en/latest/\n",
    "- Scrapy (for web scraping): http://scrapy.org/"
   ]
  },
  {
   "cell_type": "code",
   "execution_count": null,
   "metadata": {
    "collapsed": true
   },
   "outputs": [],
   "source": []
  }
 ],
 "metadata": {
  "kernelspec": {
   "display_name": "Python 2",
   "language": "python",
   "name": "python2"
  },
  "language_info": {
   "codemirror_mode": {
    "name": "ipython",
    "version": 2
   },
   "file_extension": ".py",
   "mimetype": "text/x-python",
   "name": "python",
   "nbconvert_exporter": "python",
   "pygments_lexer": "ipython2",
   "version": "2.7.6"
  }
 },
 "nbformat": 4,
 "nbformat_minor": 0
}
