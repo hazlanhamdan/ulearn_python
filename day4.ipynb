{
 "cells": [
  {
   "cell_type": "markdown",
   "metadata": {},
   "source": [
    "HTTP Requests, JSON, saving data to file\n",
    "===\n",
    "\n",
    "We will be using the \"requests\" library. If you don't have it installed, open a new command prompt and install it by typing:\n",
    "\n",
    "pip install requests"
   ]
  },
  {
   "cell_type": "code",
   "execution_count": 2,
   "metadata": {
    "collapsed": true
   },
   "outputs": [],
   "source": [
    "import requests as r"
   ]
  },
  {
   "cell_type": "code",
   "execution_count": 4,
   "metadata": {
    "collapsed": false
   },
   "outputs": [
    {
     "name": "stderr",
     "output_type": "stream",
     "text": [
      "/usr/local/lib/python2.7/dist-packages/requests/packages/urllib3/util/ssl_.py:90: InsecurePlatformWarning: A true SSLContext object is not available. This prevents urllib3 from configuring SSL appropriately and may cause certain SSL connections to fail. For more information, see https://urllib3.readthedocs.org/en/latest/security.html#insecureplatformwarning.\n",
      "  InsecurePlatformWarning\n"
     ]
    }
   ],
   "source": [
    "response = r.get(\"https://api.github.com/users/atharh\")"
   ]
  },
  {
   "cell_type": "code",
   "execution_count": 10,
   "metadata": {
    "collapsed": false
   },
   "outputs": [
    {
     "name": "stdout",
     "output_type": "stream",
     "text": [
      "atharh@gmail.com\n",
      "Athar Hameed\n",
      "<type 'dict'>\n"
     ]
    }
   ],
   "source": [
    "json_str = response.text\n",
    "#print json_str\n",
    "\n",
    "import json\n",
    "\n",
    "github_info = json.loads(json_str)\n",
    "#print type(github_info)\n",
    "print github_info['email']\n",
    "print github_info['name']\n",
    "\n",
    "print type(github_info)"
   ]
  },
  {
   "cell_type": "code",
   "execution_count": 9,
   "metadata": {
    "collapsed": true
   },
   "outputs": [],
   "source": [
    "import hello"
   ]
  },
  {
   "cell_type": "code",
   "execution_count": 11,
   "metadata": {
    "collapsed": true
   },
   "outputs": [],
   "source": [
    "hello.write_csv(\"github.csv\", [github_info], github_info.keys())"
   ]
  },
  {
   "cell_type": "code",
   "execution_count": 12,
   "metadata": {
    "collapsed": false
   },
   "outputs": [
    {
     "data": {
      "text/plain": [
       "unicode"
      ]
     },
     "execution_count": 12,
     "metadata": {},
     "output_type": "execute_result"
    }
   ],
   "source": [
    "type(json_str)"
   ]
  },
  {
   "cell_type": "markdown",
   "metadata": {},
   "source": [
    "Let's store json_str in a file so that we don't have to make an HTTP request again and again."
   ]
  },
  {
   "cell_type": "code",
   "execution_count": 13,
   "metadata": {
    "collapsed": true
   },
   "outputs": [],
   "source": [
    "with file('github.json', 'w') as f:\n",
    "    f.write(json_str)"
   ]
  },
  {
   "cell_type": "code",
   "execution_count": 14,
   "metadata": {
    "collapsed": false
   },
   "outputs": [
    {
     "data": {
      "text/plain": [
       "'{\"login\":\"atharh\",\"id\":513,\"avatar_url\":\"https://avatars.githubusercontent.com/u/513?v=3\",\"gravatar_id\":\"\",\"url\":\"https://api.github.com/users/atharh\",\"html_url\":\"https://github.com/atharh\",\"followers_url\":\"https://api.github.com/users/atharh/followers\",\"following_url\":\"https://api.github.com/users/atharh/following{/other_user}\",\"gists_url\":\"https://api.github.com/users/atharh/gists{/gist_id}\",\"starred_url\":\"https://api.github.com/users/atharh/starred{/owner}{/repo}\",\"subscriptions_url\":\"https://api.github.com/users/atharh/subscriptions\",\"organizations_url\":\"https://api.github.com/users/atharh/orgs\",\"repos_url\":\"https://api.github.com/users/atharh/repos\",\"events_url\":\"https://api.github.com/users/atharh/events{/privacy}\",\"received_events_url\":\"https://api.github.com/users/atharh/received_events\",\"type\":\"User\",\"site_admin\":false,\"name\":\"Athar Hameed\",\"company\":null,\"blog\":null,\"location\":\"Islamabad, Pakistan\",\"email\":\"atharh@gmail.com\",\"hireable\":false,\"bio\":null,\"public_repos\":18,\"public_gists\":5,\"followers\":21,\"following\":11,\"created_at\":\"2008-02-20T17:06:26Z\",\"updated_at\":\"2015-08-10T01:49:47Z\"}'"
      ]
     },
     "execution_count": 14,
     "metadata": {},
     "output_type": "execute_result"
    }
   ],
   "source": [
    "# let's read it back again\n",
    "file('github.json').read()"
   ]
  },
  {
   "cell_type": "code",
   "execution_count": null,
   "metadata": {
    "collapsed": true
   },
   "outputs": [],
   "source": []
  }
 ],
 "metadata": {
  "kernelspec": {
   "display_name": "Python 2",
   "language": "python",
   "name": "python2"
  },
  "language_info": {
   "codemirror_mode": {
    "name": "ipython",
    "version": 2
   },
   "file_extension": ".py",
   "mimetype": "text/x-python",
   "name": "python",
   "nbconvert_exporter": "python",
   "pygments_lexer": "ipython2",
   "version": "2.7.6"
  }
 },
 "nbformat": 4,
 "nbformat_minor": 0
}
